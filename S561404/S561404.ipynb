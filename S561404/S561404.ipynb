{
 "cells": [
  {
   "cell_type": "markdown",
   "id": "45e5a6a9",
   "metadata": {},
   "source": [
    "# Alexandra Coffin\n",
    "Profile Link: https://github.com/accoffin12\n",
    "Repo Link: https://github.com/accoffin12/S561404.git\n"
   ]
  },
  {
   "cell_type": "markdown",
   "id": "016994a6",
   "metadata": {},
   "source": [
    "## Original Question from python-ds\n",
    "10. Create a new Jupyter Notebook (the name of the notebook should be your S number). Add a Markdown cell that contains your name. Add a Code cell and write Python that uses loops to draw the following pattern:\n",
    "\n",
    "```\n",
    "*      *\n",
    "**    **\n",
    "***  ***\n",
    "********\n",
    "```\n",
    "Make sure to add and submit both the new notebook and the changes to this notebook for this assignment.\n",
    "\n",
    "### Creating an inverted triangle with stars:\n",
    "Base reference found (https://pynative.com/print-pattern-python-examples/). This code is complex and uses 3 separate loops to create the structure. k is used for 2 * rows - 2, with 5 rows as dictated by the variable rows. This is where the spaces printed before the stars is determined. \n",
    " \n",
    " * Loop i OUTER MOST LOOP: Creates the range of numbers from rows to -1, which generates each rows of the pattern as the triangle is inverted. \n",
    "* Loop j FIRST INNER LOOP: This loop iterates over a range of numbers from k to 0. It's used to print the spaces BEFORE the * of each row. \n",
    "*  Loop j SECOND INNER LOOP: Establishes the range of numbers from 0 to i + 1, and when combined with the outer Loop for j, it creates a star followed by a space without changing lines.\n",
    "  * The print statement at the very end of the snippet move the cursor to a new line, which indicates that a new line of the pattern is to be printed. \n",
    "\n",
    "This code does not use if/else which would have been easier and is what I will use. I included this code to demonstrate the use of nested loops, and while it is interesting I will use a different approach.  "
   ]
  },
  {
   "cell_type": "code",
   "execution_count": 1,
   "id": "67f055b9",
   "metadata": {},
   "outputs": [
    {
     "name": "stdout",
     "output_type": "stream",
     "text": [
      "        * * * * * *  \n",
      "         * * * * *  \n",
      "          * * * *  \n",
      "           * * *  \n",
      "            * *  \n",
      "             *  \n"
     ]
    }
   ],
   "source": [
    "rows = 5\n",
    "k = 2 * rows -2\n",
    "for i in range(rows, -1, -1):\n",
    "    for j in range(k, 0, -1):\n",
    "                   print(end=\" \")\n",
    "    k = k +1\n",
    "    for j in range(0, i + 1):\n",
    "        print(\"*\", end= \" \")\n",
    "    print(\" \")"
   ]
  },
  {
   "cell_type": "markdown",
   "id": "dc9bfe53",
   "metadata": {},
   "source": [
    "# Solution Code to 10:\n",
    "This code is simpler, as it uses fewer loops, the reason being that we can use the conditional statement 'if/else'. By using this particular iteration, we don't have to use as many loops but rather specific formulas instead. While using loops can be interesting, I decided the use of the nested loops wasn't as clean as using an 'if/else' statement. \n",
    "\n",
    "The pattern has 5 rows, the bottom contains 8 * and is based on a specific pattern. The 'if' statement creates the loop with the condition being that 'i < 4' to generate rows 1 - 3. The first 3 rows use a string concatenation, meaning that i is for the number of times * is used, the space is created using '2 * i'. The concatenation allows for us to string together the two different strings using + as we are creating essentially a structured string. \n",
    "\n",
    "(For more on string concatenation check out: https://realpython.com/python-string-concatenation/)\n",
    "\n",
    "The final line is created using an else condition where i is greater than 4, then the number of * must be multiplied by 8 as there are 8 stars at the bottom of the pattern. \n"
   ]
  },
  {
   "cell_type": "code",
   "execution_count": 2,
   "id": "75eef50b",
   "metadata": {},
   "outputs": [
    {
     "name": "stdout",
     "output_type": "stream",
     "text": [
      "*      *\n",
      "**    **\n",
      "***  ***\n",
      "********\n"
     ]
    }
   ],
   "source": [
    "# pattern has 5 rows, the bottom contains 8 * and goes 1, 2, 3, 4 \n",
    "for i in range(1, 5):\n",
    "    if i < 4:\n",
    "      print('*' * i + ' ' * (8 - 2 * i) + '*' * i)\n",
    "# to create the bottom line of 8 stars accross.\n",
    "    else: \n",
    "        print('*' * 8)"
   ]
  }
 ],
 "metadata": {
  "kernelspec": {
   "display_name": "Python 3",
   "language": "python",
   "name": "python3"
  },
  "language_info": {
   "codemirror_mode": {
    "name": "ipython",
    "version": 3
   },
   "file_extension": ".py",
   "mimetype": "text/x-python",
   "name": "python",
   "nbconvert_exporter": "python",
   "pygments_lexer": "ipython3",
   "version": "3.11.4"
  }
 },
 "nbformat": 4,
 "nbformat_minor": 5
}
